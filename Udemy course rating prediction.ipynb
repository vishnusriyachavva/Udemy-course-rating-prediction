{
 "cells": [
  {
   "cell_type": "code",
   "execution_count": 57,
   "id": "de9c2c61",
   "metadata": {},
   "outputs": [],
   "source": [
    "import matplotlib.pyplot as plt\n",
    "import pandas as pd\n",
    "import pylab as pl\n",
    "import numpy as np"
   ]
  },
  {
   "cell_type": "code",
   "execution_count": 58,
   "id": "f2adc899",
   "metadata": {
    "scrolled": true
   },
   "outputs": [
    {
     "data": {
      "text/plain": [
       "<function matplotlib.pyplot.show(close=None, block=None)>"
      ]
     },
     "execution_count": 58,
     "metadata": {},
     "output_type": "execute_result"
    },
    {
     "data": {
      "image/png": "[encoded data removed]",
      "text/plain": [
       "<Figure size 432x288 with 1 Axes>"
      ]
     },
     "metadata": {
      "needs_background": "light"
     },
     "output_type": "display_data"
    }
   ],
   "source": [
    "df=pd.read_csv(\"./udemy_course.csv\")\n",
    "xpoints=df[\"num_subscribers\"]\n",
    "ypoints=df[\"num_reviews\"]\n",
    "plt.style.use(\"tableau-colorblind10\")\n",
    "plt.plot(xpoints,ypoints)\n",
    "plt.show"
   ]
  },
  {
   "cell_type": "code",
   "execution_count": 59,
   "id": "72121827",
   "metadata": {},
   "outputs": [
    {
     "name": "stderr",
     "output_type": "stream",
     "text": [
      "C:\\Users\\VISHNU SRIYA\\AppData\\Local\\Temp\\ipykernel_6924\\15521704.py:2: SettingWithCopyWarning: \n",
      "A value is trying to be set on a copy of a slice from a DataFrame.\n",
      "Try using .loc[row_indexer,col_indexer] = value instead\n",
      "\n",
      "See the caveats in the documentation: https://pandas.pydata.org/pandas-docs/stable/user_guide/indexing.html#returning-a-view-versus-a-copy\n",
      "  cdf['Rating'] = cdf['Rating']* 100\n"
     ]
    },
    {
     "data": {
      "text/html": [
       "<div>\n",
       "<style scoped>\n",
       "    .dataframe tbody tr th:only-of-type {\n",
       "        vertical-align: middle;\n",
       "    }\n",
       "\n",
       "    .dataframe tbody tr th {\n",
       "        vertical-align: top;\n",
       "    }\n",
       "\n",
       "    .dataframe thead th {\n",
       "        text-align: right;\n",
       "    }\n",
       "</style>\n",
       "<table border=\"1\" class=\"dataframe\">\n",
       "  <thead>\n",
       "    <tr style=\"text-align: right;\">\n",
       "      <th></th>\n",
       "      <th>course_id</th>\n",
       "      <th>num_subscribers</th>\n",
       "      <th>num_reviews</th>\n",
       "      <th>price</th>\n",
       "      <th>content_duration</th>\n",
       "      <th>num_lectures</th>\n",
       "      <th>Rating</th>\n",
       "    </tr>\n",
       "  </thead>\n",
       "  <tbody>\n",
       "    <tr>\n",
       "      <th>0</th>\n",
       "      <td>41295.0</td>\n",
       "      <td>268923.0</td>\n",
       "      <td>8629.0</td>\n",
       "      <td>0.0</td>\n",
       "      <td>10.5</td>\n",
       "      <td>45.0</td>\n",
       "      <td>82.0</td>\n",
       "    </tr>\n",
       "    <tr>\n",
       "      <th>1</th>\n",
       "      <td>59014.0</td>\n",
       "      <td>161029.0</td>\n",
       "      <td>279.0</td>\n",
       "      <td>0.0</td>\n",
       "      <td>3.5</td>\n",
       "      <td>27.0</td>\n",
       "      <td>69.0</td>\n",
       "    </tr>\n",
       "    <tr>\n",
       "      <th>2</th>\n",
       "      <td>625204.0</td>\n",
       "      <td>121584.0</td>\n",
       "      <td>27445.0</td>\n",
       "      <td>200.0</td>\n",
       "      <td>43.0</td>\n",
       "      <td>342.0</td>\n",
       "      <td>89.0</td>\n",
       "    </tr>\n",
       "    <tr>\n",
       "      <th>3</th>\n",
       "      <td>173548.0</td>\n",
       "      <td>120291.0</td>\n",
       "      <td>5924.0</td>\n",
       "      <td>0.0</td>\n",
       "      <td>3.0</td>\n",
       "      <td>30.0</td>\n",
       "      <td>78.0</td>\n",
       "    </tr>\n",
       "    <tr>\n",
       "      <th>4</th>\n",
       "      <td>764164.0</td>\n",
       "      <td>114512.0</td>\n",
       "      <td>22412.0</td>\n",
       "      <td>200.0</td>\n",
       "      <td>30.5</td>\n",
       "      <td>304.0</td>\n",
       "      <td>55.0</td>\n",
       "    </tr>\n",
       "    <tr>\n",
       "      <th>...</th>\n",
       "      <td>...</td>\n",
       "      <td>...</td>\n",
       "      <td>...</td>\n",
       "      <td>...</td>\n",
       "      <td>...</td>\n",
       "      <td>...</td>\n",
       "      <td>...</td>\n",
       "    </tr>\n",
       "    <tr>\n",
       "      <th>1200</th>\n",
       "      <td>1227578.0</td>\n",
       "      <td>50.0</td>\n",
       "      <td>5.0</td>\n",
       "      <td>200.0</td>\n",
       "      <td>5.0</td>\n",
       "      <td>60.0</td>\n",
       "      <td>96.0</td>\n",
       "    </tr>\n",
       "    <tr>\n",
       "      <th>1201</th>\n",
       "      <td>1277924.0</td>\n",
       "      <td>44.0</td>\n",
       "      <td>0.0</td>\n",
       "      <td>40.0</td>\n",
       "      <td>8.5</td>\n",
       "      <td>68.0</td>\n",
       "      <td>15.0</td>\n",
       "    </tr>\n",
       "    <tr>\n",
       "      <th>1202</th>\n",
       "      <td>1248172.0</td>\n",
       "      <td>34.0</td>\n",
       "      <td>2.0</td>\n",
       "      <td>125.0</td>\n",
       "      <td>1.5</td>\n",
       "      <td>21.0</td>\n",
       "      <td>46.0</td>\n",
       "    </tr>\n",
       "    <tr>\n",
       "      <th>1203</th>\n",
       "      <td>1250934.0</td>\n",
       "      <td>25.0</td>\n",
       "      <td>4.0</td>\n",
       "      <td>100.0</td>\n",
       "      <td>12.5</td>\n",
       "      <td>66.0</td>\n",
       "      <td>67.0</td>\n",
       "    </tr>\n",
       "    <tr>\n",
       "      <th>1204</th>\n",
       "      <td>1270222.0</td>\n",
       "      <td>19.0</td>\n",
       "      <td>2.0</td>\n",
       "      <td>200.0</td>\n",
       "      <td>4.0</td>\n",
       "      <td>33.0</td>\n",
       "      <td>12.0</td>\n",
       "    </tr>\n",
       "  </tbody>\n",
       "</table>\n",
       "<p>1205 rows × 7 columns</p>\n",
       "</div>"
      ],
      "text/plain": [
       "      course_id  num_subscribers  num_reviews  price  content_duration  \\\n",
       "0       41295.0         268923.0       8629.0    0.0              10.5   \n",
       "1       59014.0         161029.0        279.0    0.0               3.5   \n",
       "2      625204.0         121584.0      27445.0  200.0              43.0   \n",
       "3      173548.0         120291.0       5924.0    0.0               3.0   \n",
       "4      764164.0         114512.0      22412.0  200.0              30.5   \n",
       "...         ...              ...          ...    ...               ...   \n",
       "1200  1227578.0             50.0          5.0  200.0               5.0   \n",
       "1201  1277924.0             44.0          0.0   40.0               8.5   \n",
       "1202  1248172.0             34.0          2.0  125.0               1.5   \n",
       "1203  1250934.0             25.0          4.0  100.0              12.5   \n",
       "1204  1270222.0             19.0          2.0  200.0               4.0   \n",
       "\n",
       "      num_lectures  Rating  \n",
       "0             45.0    82.0  \n",
       "1             27.0    69.0  \n",
       "2            342.0    89.0  \n",
       "3             30.0    78.0  \n",
       "4            304.0    55.0  \n",
       "...            ...     ...  \n",
       "1200          60.0    96.0  \n",
       "1201          68.0    15.0  \n",
       "1202          21.0    46.0  \n",
       "1203          66.0    67.0  \n",
       "1204          33.0    12.0  \n",
       "\n",
       "[1205 rows x 7 columns]"
      ]
     },
     "execution_count": 59,
     "metadata": {},
     "output_type": "execute_result"
    }
   ],
   "source": [
    "cdf = df[['course_id','num_subscribers','num_reviews','price','content_duration','num_lectures','Rating']]\n",
    "cdf['Rating'] = cdf['Rating']* 100\n",
    "cdf"
   ]
  },
  {
   "cell_type": "code",
   "execution_count": 60,
   "id": "0c370d02",
   "metadata": {},
   "outputs": [
    {
     "data": {
      "text/plain": [
       "course_id           2\n",
       "num_subscribers     2\n",
       "num_reviews         2\n",
       "price               2\n",
       "content_duration    2\n",
       "num_lectures        2\n",
       "Rating              2\n",
       "dtype: int64"
      ]
     },
     "execution_count": 60,
     "metadata": {},
     "output_type": "execute_result"
    }
   ],
   "source": [
    "cdf.isnull().sum()"
   ]
  },
  {
   "cell_type": "code",
   "execution_count": 61,
   "id": "dff3636d",
   "metadata": {},
   "outputs": [
    {
     "name": "stderr",
     "output_type": "stream",
     "text": [
      "C:\\Users\\VISHNU SRIYA\\AppData\\Local\\Temp\\ipykernel_6924\\226442790.py:2: SettingWithCopyWarning: \n",
      "A value is trying to be set on a copy of a slice from a DataFrame\n",
      "\n",
      "See the caveats in the documentation: https://pandas.pydata.org/pandas-docs/stable/user_guide/indexing.html#returning-a-view-versus-a-copy\n",
      "  cdf[feature].fillna(cdf[feature].mean(),inplace=True)\n"
     ]
    },
    {
     "data": {
      "text/plain": [
       "course_id           0\n",
       "num_subscribers     0\n",
       "num_reviews         0\n",
       "price               0\n",
       "content_duration    0\n",
       "num_lectures        0\n",
       "Rating              0\n",
       "dtype: int64"
      ]
     },
     "execution_count": 61,
     "metadata": {},
     "output_type": "execute_result"
    }
   ],
   "source": [
    "for feature in ['num_subscribers' , 'content_duration', 'num_reviews', 'num_lectures','price','course_id','Rating']:\n",
    "    cdf[feature].fillna(cdf[feature].mean(),inplace=True)\n",
    "cdf.isnull().sum()"
   ]
  },
  {
   "cell_type": "code",
   "execution_count": 62,
   "id": "7566c9dc",
   "metadata": {},
   "outputs": [
    {
     "data": {
      "text/html": [
       "<div>\n",
       "<style scoped>\n",
       "    .dataframe tbody tr th:only-of-type {\n",
       "        vertical-align: middle;\n",
       "    }\n",
       "\n",
       "    .dataframe tbody tr th {\n",
       "        vertical-align: top;\n",
       "    }\n",
       "\n",
       "    .dataframe thead th {\n",
       "        text-align: right;\n",
       "    }\n",
       "</style>\n",
       "<table border=\"1\" class=\"dataframe\">\n",
       "  <thead>\n",
       "    <tr style=\"text-align: right;\">\n",
       "      <th></th>\n",
       "      <th>course_id</th>\n",
       "      <th>num_subscribers</th>\n",
       "      <th>num_reviews</th>\n",
       "      <th>price</th>\n",
       "      <th>content_duration</th>\n",
       "      <th>num_lectures</th>\n",
       "      <th>Rating</th>\n",
       "    </tr>\n",
       "  </thead>\n",
       "  <tbody>\n",
       "    <tr>\n",
       "      <th>405</th>\n",
       "      <td>706874.73483</td>\n",
       "      <td>6635.024938</td>\n",
       "      <td>357.355777</td>\n",
       "      <td>77.036575</td>\n",
       "      <td>5.586658</td>\n",
       "      <td>52.767249</td>\n",
       "      <td>64.305071</td>\n",
       "    </tr>\n",
       "  </tbody>\n",
       "</table>\n",
       "</div>"
      ],
      "text/plain": [
       "        course_id  num_subscribers  num_reviews      price  content_duration  \\\n",
       "405  706874.73483      6635.024938   357.355777  77.036575          5.586658   \n",
       "\n",
       "     num_lectures     Rating  \n",
       "405     52.767249  64.305071  "
      ]
     },
     "execution_count": 62,
     "metadata": {},
     "output_type": "execute_result"
    }
   ],
   "source": [
    "cdf[cdf.duplicated()]"
   ]
  },
  {
   "cell_type": "code",
   "execution_count": 63,
   "id": "7ec20c59",
   "metadata": {},
   "outputs": [
    {
     "data": {
      "text/html": [
       "<div>\n",
       "<style scoped>\n",
       "    .dataframe tbody tr th:only-of-type {\n",
       "        vertical-align: middle;\n",
       "    }\n",
       "\n",
       "    .dataframe tbody tr th {\n",
       "        vertical-align: top;\n",
       "    }\n",
       "\n",
       "    .dataframe thead th {\n",
       "        text-align: right;\n",
       "    }\n",
       "</style>\n",
       "<table border=\"1\" class=\"dataframe\">\n",
       "  <thead>\n",
       "    <tr style=\"text-align: right;\">\n",
       "      <th></th>\n",
       "      <th>course_id</th>\n",
       "      <th>num_subscribers</th>\n",
       "      <th>num_reviews</th>\n",
       "      <th>price</th>\n",
       "      <th>content_duration</th>\n",
       "      <th>num_lectures</th>\n",
       "      <th>Rating</th>\n",
       "    </tr>\n",
       "  </thead>\n",
       "  <tbody>\n",
       "    <tr>\n",
       "      <th>0</th>\n",
       "      <td>41295.0</td>\n",
       "      <td>268923.0</td>\n",
       "      <td>8629.0</td>\n",
       "      <td>0.0</td>\n",
       "      <td>10.5</td>\n",
       "      <td>45.0</td>\n",
       "      <td>82.0</td>\n",
       "    </tr>\n",
       "    <tr>\n",
       "      <th>1</th>\n",
       "      <td>59014.0</td>\n",
       "      <td>161029.0</td>\n",
       "      <td>279.0</td>\n",
       "      <td>0.0</td>\n",
       "      <td>3.5</td>\n",
       "      <td>27.0</td>\n",
       "      <td>69.0</td>\n",
       "    </tr>\n",
       "    <tr>\n",
       "      <th>2</th>\n",
       "      <td>625204.0</td>\n",
       "      <td>121584.0</td>\n",
       "      <td>27445.0</td>\n",
       "      <td>200.0</td>\n",
       "      <td>43.0</td>\n",
       "      <td>342.0</td>\n",
       "      <td>89.0</td>\n",
       "    </tr>\n",
       "    <tr>\n",
       "      <th>3</th>\n",
       "      <td>173548.0</td>\n",
       "      <td>120291.0</td>\n",
       "      <td>5924.0</td>\n",
       "      <td>0.0</td>\n",
       "      <td>3.0</td>\n",
       "      <td>30.0</td>\n",
       "      <td>78.0</td>\n",
       "    </tr>\n",
       "    <tr>\n",
       "      <th>4</th>\n",
       "      <td>764164.0</td>\n",
       "      <td>114512.0</td>\n",
       "      <td>22412.0</td>\n",
       "      <td>200.0</td>\n",
       "      <td>30.5</td>\n",
       "      <td>304.0</td>\n",
       "      <td>55.0</td>\n",
       "    </tr>\n",
       "    <tr>\n",
       "      <th>...</th>\n",
       "      <td>...</td>\n",
       "      <td>...</td>\n",
       "      <td>...</td>\n",
       "      <td>...</td>\n",
       "      <td>...</td>\n",
       "      <td>...</td>\n",
       "      <td>...</td>\n",
       "    </tr>\n",
       "    <tr>\n",
       "      <th>1200</th>\n",
       "      <td>1227578.0</td>\n",
       "      <td>50.0</td>\n",
       "      <td>5.0</td>\n",
       "      <td>200.0</td>\n",
       "      <td>5.0</td>\n",
       "      <td>60.0</td>\n",
       "      <td>96.0</td>\n",
       "    </tr>\n",
       "    <tr>\n",
       "      <th>1201</th>\n",
       "      <td>1277924.0</td>\n",
       "      <td>44.0</td>\n",
       "      <td>0.0</td>\n",
       "      <td>40.0</td>\n",
       "      <td>8.5</td>\n",
       "      <td>68.0</td>\n",
       "      <td>15.0</td>\n",
       "    </tr>\n",
       "    <tr>\n",
       "      <th>1202</th>\n",
       "      <td>1248172.0</td>\n",
       "      <td>34.0</td>\n",
       "      <td>2.0</td>\n",
       "      <td>125.0</td>\n",
       "      <td>1.5</td>\n",
       "      <td>21.0</td>\n",
       "      <td>46.0</td>\n",
       "    </tr>\n",
       "    <tr>\n",
       "      <th>1203</th>\n",
       "      <td>1250934.0</td>\n",
       "      <td>25.0</td>\n",
       "      <td>4.0</td>\n",
       "      <td>100.0</td>\n",
       "      <td>12.5</td>\n",
       "      <td>66.0</td>\n",
       "      <td>67.0</td>\n",
       "    </tr>\n",
       "    <tr>\n",
       "      <th>1204</th>\n",
       "      <td>1270222.0</td>\n",
       "      <td>19.0</td>\n",
       "      <td>2.0</td>\n",
       "      <td>200.0</td>\n",
       "      <td>4.0</td>\n",
       "      <td>33.0</td>\n",
       "      <td>12.0</td>\n",
       "    </tr>\n",
       "  </tbody>\n",
       "</table>\n",
       "<p>1204 rows × 7 columns</p>\n",
       "</div>"
      ],
      "text/plain": [
       "      course_id  num_subscribers  num_reviews  price  content_duration  \\\n",
       "0       41295.0         268923.0       8629.0    0.0              10.5   \n",
       "1       59014.0         161029.0        279.0    0.0               3.5   \n",
       "2      625204.0         121584.0      27445.0  200.0              43.0   \n",
       "3      173548.0         120291.0       5924.0    0.0               3.0   \n",
       "4      764164.0         114512.0      22412.0  200.0              30.5   \n",
       "...         ...              ...          ...    ...               ...   \n",
       "1200  1227578.0             50.0          5.0  200.0               5.0   \n",
       "1201  1277924.0             44.0          0.0   40.0               8.5   \n",
       "1202  1248172.0             34.0          2.0  125.0               1.5   \n",
       "1203  1250934.0             25.0          4.0  100.0              12.5   \n",
       "1204  1270222.0             19.0          2.0  200.0               4.0   \n",
       "\n",
       "      num_lectures  Rating  \n",
       "0             45.0    82.0  \n",
       "1             27.0    69.0  \n",
       "2            342.0    89.0  \n",
       "3             30.0    78.0  \n",
       "4            304.0    55.0  \n",
       "...            ...     ...  \n",
       "1200          60.0    96.0  \n",
       "1201          68.0    15.0  \n",
       "1202          21.0    46.0  \n",
       "1203          66.0    67.0  \n",
       "1204          33.0    12.0  \n",
       "\n",
       "[1204 rows x 7 columns]"
      ]
     },
     "execution_count": 63,
     "metadata": {},
     "output_type": "execute_result"
    }
   ],
   "source": [
    "cf = cdf.drop_duplicates()\n",
    "cf"
   ]
  },
  {
   "cell_type": "code",
   "execution_count": 64,
   "id": "18a2f732",
   "metadata": {},
   "outputs": [
    {
     "data": {
      "text/html": [
       "<div>\n",
       "<style scoped>\n",
       "    .dataframe tbody tr th:only-of-type {\n",
       "        vertical-align: middle;\n",
       "    }\n",
       "\n",
       "    .dataframe tbody tr th {\n",
       "        vertical-align: top;\n",
       "    }\n",
       "\n",
       "    .dataframe thead th {\n",
       "        text-align: right;\n",
       "    }\n",
       "</style>\n",
       "<table border=\"1\" class=\"dataframe\">\n",
       "  <thead>\n",
       "    <tr style=\"text-align: right;\">\n",
       "      <th></th>\n",
       "      <th>course_id</th>\n",
       "      <th>num_subscribers</th>\n",
       "      <th>num_reviews</th>\n",
       "      <th>price</th>\n",
       "      <th>content_duration</th>\n",
       "      <th>num_lectures</th>\n",
       "      <th>Rating</th>\n",
       "    </tr>\n",
       "  </thead>\n",
       "  <tbody>\n",
       "  </tbody>\n",
       "</table>\n",
       "</div>"
      ],
      "text/plain": [
       "Empty DataFrame\n",
       "Columns: [course_id, num_subscribers, num_reviews, price, content_duration, num_lectures, Rating]\n",
       "Index: []"
      ]
     },
     "execution_count": 64,
     "metadata": {},
     "output_type": "execute_result"
    }
   ],
   "source": [
    "cf[cf.duplicated()]"
   ]
  },
  {
   "cell_type": "code",
   "execution_count": 65,
   "id": "0efeac7b",
   "metadata": {},
   "outputs": [],
   "source": [
    "# # dff = pd.cf(np.random.randn(100, 2))\n",
    "# msk = np.random.rand(len(cf)) < 0.8\n",
    "# train = cf[msk]\n",
    "# train\n"
   ]
  },
  {
   "cell_type": "code",
   "execution_count": 66,
   "id": "b41da57f",
   "metadata": {},
   "outputs": [],
   "source": [
    "# test = cf[~msk]\n",
    "# test"
   ]
  },
  {
   "cell_type": "code",
   "execution_count": 67,
   "id": "8f3ded23",
   "metadata": {},
   "outputs": [],
   "source": [
    "# from sklearn import linear_model\n",
    "# regr = linear_model.LinearRegression()\n",
    "# x = np.asanyarray(train[['num_subscribers','num_reviews','price','content_duration','num_lectures']])\n",
    "# y = np.asanyarray(train[['Rating']])\n",
    "# regr.fit (x, y)\n",
    "# # The coefficients\n",
    "# print ('Coefficients: ', regr.coef_)"
   ]
  },
  {
   "cell_type": "code",
   "execution_count": 68,
   "id": "deffbf19",
   "metadata": {},
   "outputs": [
    {
     "data": {
      "image/png": "[encoded data removed]",
      "text/plain": [
       "<Figure size 720x504 with 1 Axes>"
      ]
     },
     "metadata": {
      "needs_background": "light"
     },
     "output_type": "display_data"
    }
   ],
   "source": [
    "np.random.seed(10)\n",
    "data = cf['Rating']\n",
    " \n",
    "fig = plt.figure(figsize =(10, 7))\n",
    " \n",
    "# Creating plot\n",
    "plt.boxplot(data)\n",
    " \n",
    "# show plot\n",
    "plt.show()"
   ]
  },
  {
   "cell_type": "code",
   "execution_count": 69,
   "id": "405734a4",
   "metadata": {},
   "outputs": [],
   "source": [
    "# # a = df\n",
    "# # b = 'num_subscribers'\n",
    "# def outliers(df,ft):\n",
    "#     q1 = df[ft].quantile(0.25)\n",
    "#     q2 = df[ft].quantile(0.75)\n",
    "#     iqr = q2-q1\n",
    "#     l = q1 - 1.5 * iqr\n",
    "#     u = q2 + 1.5 * iqr\n",
    "#     ls = df.index[(df[ft]<l) | (df[ft] > u)]\n",
    "#     return ls"
   ]
  },
  {
   "cell_type": "code",
   "execution_count": 70,
   "id": "380625eb",
   "metadata": {},
   "outputs": [],
   "source": [
    "# index_list= []\n",
    "# for feature in ['num_subscribers' , 'content_duration', 'num_reviews', 'num_lectures']:\n",
    "#     index_list.extend(outliers(cf, feature))\n",
    "# index_list"
   ]
  },
  {
   "cell_type": "code",
   "execution_count": 71,
   "id": "fa4a4a1d",
   "metadata": {},
   "outputs": [],
   "source": [
    "def remov(df, ls):\n",
    "    ls=sorted(set(ls))\n",
    "    df=df.drop(ls)\n",
    "    return df"
   ]
  },
  {
   "cell_type": "code",
   "execution_count": 72,
   "id": "9876a8c7",
   "metadata": {},
   "outputs": [
    {
     "data": {
      "text/html": [
       "<div>\n",
       "<style scoped>\n",
       "    .dataframe tbody tr th:only-of-type {\n",
       "        vertical-align: middle;\n",
       "    }\n",
       "\n",
       "    .dataframe tbody tr th {\n",
       "        vertical-align: top;\n",
       "    }\n",
       "\n",
       "    .dataframe thead th {\n",
       "        text-align: right;\n",
       "    }\n",
       "</style>\n",
       "<table border=\"1\" class=\"dataframe\">\n",
       "  <thead>\n",
       "    <tr style=\"text-align: right;\">\n",
       "      <th></th>\n",
       "      <th>course_id</th>\n",
       "      <th>num_subscribers</th>\n",
       "      <th>num_reviews</th>\n",
       "      <th>price</th>\n",
       "      <th>content_duration</th>\n",
       "      <th>num_lectures</th>\n",
       "      <th>Rating</th>\n",
       "    </tr>\n",
       "  </thead>\n",
       "  <tbody>\n",
       "    <tr>\n",
       "      <th>0</th>\n",
       "      <td>41295.0</td>\n",
       "      <td>268923.0</td>\n",
       "      <td>8629.0</td>\n",
       "      <td>0.0</td>\n",
       "      <td>10.5</td>\n",
       "      <td>45.0</td>\n",
       "      <td>82.0</td>\n",
       "    </tr>\n",
       "    <tr>\n",
       "      <th>1</th>\n",
       "      <td>59014.0</td>\n",
       "      <td>161029.0</td>\n",
       "      <td>279.0</td>\n",
       "      <td>0.0</td>\n",
       "      <td>3.5</td>\n",
       "      <td>27.0</td>\n",
       "      <td>69.0</td>\n",
       "    </tr>\n",
       "    <tr>\n",
       "      <th>2</th>\n",
       "      <td>625204.0</td>\n",
       "      <td>121584.0</td>\n",
       "      <td>27445.0</td>\n",
       "      <td>200.0</td>\n",
       "      <td>43.0</td>\n",
       "      <td>342.0</td>\n",
       "      <td>89.0</td>\n",
       "    </tr>\n",
       "    <tr>\n",
       "      <th>3</th>\n",
       "      <td>173548.0</td>\n",
       "      <td>120291.0</td>\n",
       "      <td>5924.0</td>\n",
       "      <td>0.0</td>\n",
       "      <td>3.0</td>\n",
       "      <td>30.0</td>\n",
       "      <td>78.0</td>\n",
       "    </tr>\n",
       "    <tr>\n",
       "      <th>4</th>\n",
       "      <td>764164.0</td>\n",
       "      <td>114512.0</td>\n",
       "      <td>22412.0</td>\n",
       "      <td>200.0</td>\n",
       "      <td>30.5</td>\n",
       "      <td>304.0</td>\n",
       "      <td>55.0</td>\n",
       "    </tr>\n",
       "    <tr>\n",
       "      <th>...</th>\n",
       "      <td>...</td>\n",
       "      <td>...</td>\n",
       "      <td>...</td>\n",
       "      <td>...</td>\n",
       "      <td>...</td>\n",
       "      <td>...</td>\n",
       "      <td>...</td>\n",
       "    </tr>\n",
       "    <tr>\n",
       "      <th>1200</th>\n",
       "      <td>1227578.0</td>\n",
       "      <td>50.0</td>\n",
       "      <td>5.0</td>\n",
       "      <td>200.0</td>\n",
       "      <td>5.0</td>\n",
       "      <td>60.0</td>\n",
       "      <td>96.0</td>\n",
       "    </tr>\n",
       "    <tr>\n",
       "      <th>1201</th>\n",
       "      <td>1277924.0</td>\n",
       "      <td>44.0</td>\n",
       "      <td>0.0</td>\n",
       "      <td>40.0</td>\n",
       "      <td>8.5</td>\n",
       "      <td>68.0</td>\n",
       "      <td>15.0</td>\n",
       "    </tr>\n",
       "    <tr>\n",
       "      <th>1202</th>\n",
       "      <td>1248172.0</td>\n",
       "      <td>34.0</td>\n",
       "      <td>2.0</td>\n",
       "      <td>125.0</td>\n",
       "      <td>1.5</td>\n",
       "      <td>21.0</td>\n",
       "      <td>46.0</td>\n",
       "    </tr>\n",
       "    <tr>\n",
       "      <th>1203</th>\n",
       "      <td>1250934.0</td>\n",
       "      <td>25.0</td>\n",
       "      <td>4.0</td>\n",
       "      <td>100.0</td>\n",
       "      <td>12.5</td>\n",
       "      <td>66.0</td>\n",
       "      <td>67.0</td>\n",
       "    </tr>\n",
       "    <tr>\n",
       "      <th>1204</th>\n",
       "      <td>1270222.0</td>\n",
       "      <td>19.0</td>\n",
       "      <td>2.0</td>\n",
       "      <td>200.0</td>\n",
       "      <td>4.0</td>\n",
       "      <td>33.0</td>\n",
       "      <td>12.0</td>\n",
       "    </tr>\n",
       "  </tbody>\n",
       "</table>\n",
       "<p>1204 rows × 7 columns</p>\n",
       "</div>"
      ],
      "text/plain": [
       "      course_id  num_subscribers  num_reviews  price  content_duration  \\\n",
       "0       41295.0         268923.0       8629.0    0.0              10.5   \n",
       "1       59014.0         161029.0        279.0    0.0               3.5   \n",
       "2      625204.0         121584.0      27445.0  200.0              43.0   \n",
       "3      173548.0         120291.0       5924.0    0.0               3.0   \n",
       "4      764164.0         114512.0      22412.0  200.0              30.5   \n",
       "...         ...              ...          ...    ...               ...   \n",
       "1200  1227578.0             50.0          5.0  200.0               5.0   \n",
       "1201  1277924.0             44.0          0.0   40.0               8.5   \n",
       "1202  1248172.0             34.0          2.0  125.0               1.5   \n",
       "1203  1250934.0             25.0          4.0  100.0              12.5   \n",
       "1204  1270222.0             19.0          2.0  200.0               4.0   \n",
       "\n",
       "      num_lectures  Rating  \n",
       "0             45.0    82.0  \n",
       "1             27.0    69.0  \n",
       "2            342.0    89.0  \n",
       "3             30.0    78.0  \n",
       "4            304.0    55.0  \n",
       "...            ...     ...  \n",
       "1200          60.0    96.0  \n",
       "1201          68.0    15.0  \n",
       "1202          21.0    46.0  \n",
       "1203          66.0    67.0  \n",
       "1204          33.0    12.0  \n",
       "\n",
       "[1204 rows x 7 columns]"
      ]
     },
     "execution_count": 72,
     "metadata": {},
     "output_type": "execute_result"
    }
   ],
   "source": [
    "df_cleaned = remov(cf,index_list)\n",
    "df_cleaned"
   ]
  },
  {
   "cell_type": "code",
   "execution_count": 73,
   "id": "6298236e",
   "metadata": {},
   "outputs": [],
   "source": [
    "# index_list= []\n",
    "# for feature in ['num_subscribers' , 'content_duration', 'num_reviews', 'num_lectures']:\n",
    "#     index_list.extend(outliers(df_cleaned, feature))\n",
    "# dff = remove(df_cleaned,index_list)\n",
    "# dff"
   ]
  },
  {
   "cell_type": "code",
   "execution_count": 74,
   "id": "40265bf8",
   "metadata": {},
   "outputs": [
    {
     "data": {
      "image/png": "[encoded data removed]",
      "text/plain": [
       "<Figure size 720x504 with 1 Axes>"
      ]
     },
     "metadata": {
      "needs_background": "light"
     },
     "output_type": "display_data"
    }
   ],
   "source": [
    "np.random.seed(10)\n",
    "data = df_cleaned['num_lectures']\n",
    " \n",
    "fig = plt.figure(figsize =(10, 7))\n",
    " \n",
    "# Creating plot\n",
    "plt.boxplot(data)\n",
    " \n",
    "# show plot\n",
    "plt.show()"
   ]
  },
  {
   "cell_type": "code",
   "execution_count": 75,
   "id": "62a18be9",
   "metadata": {},
   "outputs": [],
   "source": [
    "x=df_cleaned.drop(['Rating'],axis=1).values\n",
    "y=df_cleaned['Rating'].values"
   ]
  },
  {
   "cell_type": "code",
   "execution_count": 76,
   "id": "39411e97",
   "metadata": {},
   "outputs": [],
   "source": [
    "from sklearn.model_selection import train_test_split  \n",
    "x_train, x_test, y_train, y_test= train_test_split(x, y, test_size= 0.2, random_state=100)"
   ]
  },
  {
   "cell_type": "code",
   "execution_count": 77,
   "id": "ca0fc402",
   "metadata": {},
   "outputs": [
    {
     "name": "stdout",
     "output_type": "stream",
     "text": [
      "      course_id  num_subscribers  num_reviews  price  content_duration  \\\n",
      "0       41295.0         268923.0       8629.0    0.0              10.5   \n",
      "1       59014.0         161029.0        279.0    0.0               3.5   \n",
      "2      625204.0         121584.0      27445.0  200.0              43.0   \n",
      "3      173548.0         120291.0       5924.0    0.0               3.0   \n",
      "4      764164.0         114512.0      22412.0  200.0              30.5   \n",
      "...         ...              ...          ...    ...               ...   \n",
      "1200  1227578.0             50.0          5.0  200.0               5.0   \n",
      "1201  1277924.0             44.0          0.0   40.0               8.5   \n",
      "1202  1248172.0             34.0          2.0  125.0               1.5   \n",
      "1203  1250934.0             25.0          4.0  100.0              12.5   \n",
      "1204  1270222.0             19.0          2.0  200.0               4.0   \n",
      "\n",
      "      num_lectures  \n",
      "0             45.0  \n",
      "1             27.0  \n",
      "2            342.0  \n",
      "3             30.0  \n",
      "4            304.0  \n",
      "...            ...  \n",
      "1200          60.0  \n",
      "1201          68.0  \n",
      "1202          21.0  \n",
      "1203          66.0  \n",
      "1204          33.0  \n",
      "\n",
      "[1204 rows x 6 columns]\n",
      "0       82.0\n",
      "1       69.0\n",
      "2       89.0\n",
      "3       78.0\n",
      "4       55.0\n",
      "        ... \n",
      "1200    96.0\n",
      "1201    15.0\n",
      "1202    46.0\n",
      "1203    67.0\n",
      "1204    12.0\n",
      "Name: Rating, Length: 1204, dtype: float64\n"
     ]
    }
   ],
   "source": [
    "from sklearn.model_selection import train_test_split\n",
    "X = df_cleaned.drop(columns = 'Rating',axis = 1)\n",
    "Y = df_cleaned[\"Rating\"]\n",
    "print(X)\n",
    "print(Y)"
   ]
  },
  {
   "cell_type": "code",
   "execution_count": 78,
   "id": "97f4d4ae",
   "metadata": {},
   "outputs": [],
   "source": [
    "# y_pred= regressor.predict(x_test)\n",
    "# print('Train Score: ', regressor.score(standardized_train, Y_train))  \n",
    "# print('Test Score: ', regressor.score(standardized_test, Y_test))"
   ]
  },
  {
   "cell_type": "code",
   "execution_count": 81,
   "id": "cd39f963",
   "metadata": {},
   "outputs": [
    {
     "name": "stdout",
     "output_type": "stream",
     "text": [
      "Train Score:  88.7689403224645\n"
     ]
    },
    {
     "data": {
      "text/plain": [
       "array([60.18])"
      ]
     },
     "execution_count": 81,
     "metadata": {},
     "output_type": "execute_result"
    }
   ],
   "source": [
    "from sklearn.model_selection import train_test_split  \n",
    "x_train, x_test, y_train, y_test= train_test_split(x, y, test_size= 0.2, random_state=0)\n",
    "from sklearn.linear_model import LinearRegression  \n",
    "from sklearn.ensemble import RandomForestRegressor\n",
    "from sklearn.datasets import make_regression\n",
    "\n",
    "regressor = RandomForestRegressor(n_estimators=100)\n",
    "# regressor= LinearRegression()  \n",
    "regressor.fit(x_train, y_train)\n",
    "y_pred= regressor.predict(x_test)\n",
    "print('Train Score: ', regressor.score(x_train, y_train)*100)  \n",
    "# print('Test Score: ', regressor.score(x_test, y_test))  \n",
    "regressor.predict([[59014.0,161029.0,279.0,0.0,3.5,27.0]])"
   ]
  },
  {
   "cell_type": "code",
   "execution_count": 55,
   "id": "6be271dd",
   "metadata": {},
   "outputs": [
    {
     "name": "stdout",
     "output_type": "stream",
     "text": [
      "Train Score:  0.8864510119463411\n",
      "Test Score:  0.04981882355577916\n",
      "0.04981882355577916\n"
     ]
    },
    {
     "data": {
      "text/plain": [
       "array([60.96])"
      ]
     },
     "execution_count": 55,
     "metadata": {},
     "output_type": "execute_result"
    }
   ],
   "source": [
    "# from sklearn.model_selection import train_test_split  \n",
    "# from sklearn.metrics import accuracy_score\n",
    "# from sklearn.metrics import mean_absolute_error,r2_score,mean_squared_error, confusion_matrix,f1_score,accuracy_score,recall_score\n",
    "# x_train, x_test, y_train, y_test= train_test_split(x, y, test_size= 0.2, random_state=0)\n",
    "# from sklearn.linear_model import LinearRegression  \n",
    "# from sklearn.ensemble import RandomForestRegressor\n",
    "# from sklearn.datasets import make_regression\n",
    "\n",
    "# regressor = RandomForestRegressor(n_estimators=100)\n",
    "# # regressor= LinearRegression()  \n",
    "# regressor.fit(x_train, y_train)\n",
    "# y_pred= regressor.predict(x_test)\n",
    "# # print(y_pred)\n",
    "# a = regressor.score(x_train, y_train)\n",
    "# b = regressor.score(x_test, y_test)\n",
    "# print('Train Score: ', regressor.score(x_train, y_train))  \n",
    "# print('Test Score: ', regressor.score(x_test, y_test))  \n",
    "# print(r2_score(y_test, y_pred))\n",
    "# regressor.predict([[59014.0,161029.0,279.0,0.0,3.5,27.0]])\n",
    "# # ac = accuracy_score(y_pred,y_test)"
   ]
  },
  {
   "cell_type": "code",
   "execution_count": null,
   "id": "25637fe0",
   "metadata": {},
   "outputs": [],
   "source": []
  },
  {
   "cell_type": "code",
   "execution_count": null,
   "id": "2f964e5b",
   "metadata": {},
   "outputs": [],
   "source": []
  }
 ],
 "metadata": {
  "kernelspec": {
   "display_name": "Python 3 (ipykernel)",
   "language": "python",
   "name": "python3"
  },
  "language_info": {
   "codemirror_mode": {
    "name": "ipython",
    "version": 3
   },
   "file_extension": ".py",
   "mimetype": "text/x-python",
   "name": "python",
   "nbconvert_exporter": "python",
   "pygments_lexer": "ipython3",
   "version": "3.9.12"
  }
 },
 "nbformat": 4,
 "nbformat_minor": 5
}
